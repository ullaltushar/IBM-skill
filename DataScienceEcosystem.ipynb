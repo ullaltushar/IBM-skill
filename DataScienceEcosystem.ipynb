{
 "cells": [
  {
   "cell_type": "markdown",
   "id": "2b9087e6-8bee-44d4-b92f-81501e6d662c",
   "metadata": {
    "tags": []
   },
   "source": [
    "# Data Science Tools and Ecosystem"
   ]
  },
  {
   "cell_type": "markdown",
   "id": "d2859f80-3b70-4163-880e-346a378ad87e",
   "metadata": {},
   "source": [
    "In this notebook, Data science tools and ecosystems are summarized."
   ]
  },
  {
   "cell_type": "markdown",
   "id": "76255f51-bc70-4f9e-ae2e-c2a3c244d683",
   "metadata": {},
   "source": [
    "Some of the popular languages that data scientists use are: \n",
    "1. Python \n",
    "2. R\n",
    "3. Julia"
   ]
  },
  {
   "cell_type": "markdown",
   "id": "c8c622d7-a0ec-4c3f-a0be-b71fc6bd36f2",
   "metadata": {},
   "source": [
    "Some of the commonly uses libraries used by data scientist include:\n",
    "1. Pandas\n",
    "2. scikitlearn\n",
    "3. seaborn"
   ]
  },
  {
   "cell_type": "markdown",
   "id": "a7f7a61d-9338-43eb-a1b0-06e0d8b97193",
   "metadata": {},
   "source": [
    "| Data Science Tools |\n",
    "|--------------------|\n",
    "|R studio|\n",
    "|Apache spark|\n",
    "|Tensorflow|\n",
    "\n"
   ]
  },
  {
   "cell_type": "markdown",
   "id": "aa679c0d-bc0d-456c-92aa-a2b2dc80fb35",
   "metadata": {},
   "source": [
    "### Below are a few examples of evaluating arithmetic expressions in Python."
   ]
  },
  {
   "cell_type": "code",
   "execution_count": 3,
   "id": "103ee571-81ae-4006-bcba-0fe32169b107",
   "metadata": {},
   "outputs": [
    {
     "data": {
      "text/plain": [
       "17"
      ]
     },
     "execution_count": 3,
     "metadata": {},
     "output_type": "execute_result"
    }
   ],
   "source": [
    "# This a simple arithmetic expression to mutiply then add integers\n",
    "(3*4)+5"
   ]
  },
  {
   "cell_type": "code",
   "execution_count": 4,
   "id": "08fde792-70f6-4c1a-afca-768ae0dbfe3a",
   "metadata": {},
   "outputs": [
    {
     "data": {
      "text/plain": [
       "3.3333333333333335"
      ]
     },
     "execution_count": 4,
     "metadata": {},
     "output_type": "execute_result"
    }
   ],
   "source": [
    "# This will convert 200 minutes to hours by diving by 60.\n",
    "200/60"
   ]
  },
  {
   "cell_type": "markdown",
   "id": "3f9fa52f-758a-4690-a9b8-eb623d459939",
   "metadata": {},
   "source": [
    "__Objectives:__\n",
    "- List of popular languages for Data science\n",
    "- List of popular libraries\n",
    "- list of popular open source environments for data sciene\n",
    "- Evaluating Expressions\n",
    "- Creating Table in markdown\n"
   ]
  },
  {
   "cell_type": "code",
   "execution_count": null,
   "id": "c6cdaa43-12e0-44e3-8e7a-647626e7cd05",
   "metadata": {},
   "outputs": [],
   "source": []
  }
 ],
 "metadata": {
  "kernelspec": {
   "display_name": "Python",
   "language": "python",
   "name": "conda-env-python-py"
  },
  "language_info": {
   "codemirror_mode": {
    "name": "ipython",
    "version": 3
   },
   "file_extension": ".py",
   "mimetype": "text/x-python",
   "name": "python",
   "nbconvert_exporter": "python",
   "pygments_lexer": "ipython3",
   "version": "3.7.12"
  }
 },
 "nbformat": 4,
 "nbformat_minor": 5
}
